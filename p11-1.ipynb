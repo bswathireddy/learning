{
 "cells": [
  {
   "cell_type": "code",
   "execution_count": 1,
   "metadata": {},
   "outputs": [],
   "source": [
    "'''Import pandas to work with the csv files in this program.'''\n",
    "'''Import os to get all input csv files.'''\n",
    "import pandas as pd\n",
    "import os\n",
    "'''Function to get all input files.'''\n",
    "def getinputfiles():\n",
    "    for file in os.listdir(\".\"):\n",
    "        if file.endswith(\".csv\"):\n",
    "            try:\n",
    "                if os.path.getsize(file)==None:\n",
    "                    raise TypeError(\"File is Empty\")\n",
    "                else:\n",
    "                    readcsvfile(file)\n",
    "            except Exception as err:\n",
    "                Print(\"Error in file\")\n",
    "        else:\n",
    "            continue\n",
    "'''Function method to read all csv files and send to output file.'''\n",
    "def readcsvfile(filepath):\n",
    "    with open(filepath) as f:\n",
    "        '''Reading csv file.'''\n",
    "        data_frame=pd.read_csv(f)\n",
    "        '''Sorting data_frame file with event ID.'''\n",
    "        sort_data_frame=data_frame.sort_values('EVENT_ID')\n",
    "        '''Sending read and sorted csv file to output file.'''\n",
    "        '''Index False is to eliminate row numbers.'''\n",
    "        data_frame_1=data_frame[data_frame['YEARMONTH']==202001]\n",
    "        data_frame_2=data_frame[data_frame['YEARMONTH']==202002]\n",
    "        data_frame_3=data_frame[data_frame['YEARMONTH']==202003]\n",
    "        data_frame_4=data_frame[data_frame['YEARMONTH']==202004]\n",
    "        data_frame_5=data_frame[data_frame['YEARMONTH']==202005]\n",
    "        data_frame_1.to_csv('outputfile202001.csv',index=False)\n",
    "        data_frame_2.to_csv('outputfile202002.csv',index=False)\n",
    "        data_frame_3.to_csv('outputfile202003.csv',index=False)\n",
    "        data_frame_4.to_csv('outputfile202004.csv',index=False)\n",
    "        data_frame_5.to_csv('outputfile202005.csv',index=False)\n",
    "\n",
    "getinputfiles()"
   ]
  },
  {
   "cell_type": "code",
   "execution_count": null,
   "metadata": {},
   "outputs": [],
   "source": []
  }
 ],
 "metadata": {
  "kernelspec": {
   "display_name": "Python 3",
   "language": "python",
   "name": "python3"
  },
  "language_info": {
   "codemirror_mode": {
    "name": "ipython",
    "version": 3
   },
   "file_extension": ".py",
   "mimetype": "text/x-python",
   "name": "python",
   "nbconvert_exporter": "python",
   "pygments_lexer": "ipython3",
   "version": "3.7.6"
  }
 },
 "nbformat": 4,
 "nbformat_minor": 4
}
